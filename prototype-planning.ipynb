{
 "cells": [
  {
   "cell_type": "code",
   "execution_count": null,
   "metadata": {
    "collapsed": true
   },
   "outputs": [],
   "source": []
  },
  {
   "cell_type": "code",
   "execution_count": null,
   "metadata": {
    "collapsed": true
   },
   "outputs": [],
   "source": [
    "import numpy as np"
   ]
  },
  {
   "cell_type": "code",
   "execution_count": null,
   "metadata": {
    "collapsed": true
   },
   "outputs": [],
   "source": [
    "import matplotlib.pyplot as plt\n",
    "%matplotlib inline\n",
    "plt.rcParams['figure.figsize'] = 24, 24"
   ]
  },
  {
   "cell_type": "code",
   "execution_count": null,
   "metadata": {
    "collapsed": true
   },
   "outputs": [],
   "source": []
  },
  {
   "cell_type": "markdown",
   "metadata": {},
   "source": [
    "# read map data"
   ]
  },
  {
   "cell_type": "code",
   "execution_count": null,
   "metadata": {
    "collapsed": true
   },
   "outputs": [],
   "source": [
    "filename = 'colliders.csv'\n",
    "data = np.loadtxt(filename,delimiter=',',dtype='Float64',skiprows=2)\n",
    "print(data)"
   ]
  },
  {
   "cell_type": "code",
   "execution_count": null,
   "metadata": {
    "collapsed": true
   },
   "outputs": [],
   "source": [
    "data.shape"
   ]
  },
  {
   "cell_type": "code",
   "execution_count": null,
   "metadata": {
    "collapsed": true
   },
   "outputs": [],
   "source": [
    "np.floor(np.amin(data[:, 0] - data[:, 3])), np.ceil(np.amax(data[:, 0] + data[:, 3]))"
   ]
  },
  {
   "cell_type": "code",
   "execution_count": null,
   "metadata": {
    "collapsed": true
   },
   "outputs": [],
   "source": [
    "np.floor(np.amin(data[:, 1] - data[:, 4])), np.ceil(np.amax(data[:, 1] + data[:, 4]))"
   ]
  },
  {
   "cell_type": "code",
   "execution_count": null,
   "metadata": {
    "collapsed": true
   },
   "outputs": [],
   "source": [
    "np.floor(np.amin(data[:, 2] - data[:, 5])), np.ceil(np.amax(data[:, 2] + data[:, 5]))"
   ]
  },
  {
   "cell_type": "code",
   "execution_count": null,
   "metadata": {
    "collapsed": true
   },
   "outputs": [],
   "source": []
  },
  {
   "cell_type": "code",
   "execution_count": null,
   "metadata": {
    "collapsed": true
   },
   "outputs": [],
   "source": []
  },
  {
   "cell_type": "markdown",
   "metadata": {},
   "source": [
    "# read start position"
   ]
  },
  {
   "cell_type": "code",
   "execution_count": null,
   "metadata": {
    "collapsed": true
   },
   "outputs": [],
   "source": [
    "with open(filename) as f:\n",
    "    for line in f:\n",
    "        break\n",
    "(_, start_lat, _, start_lon) = line.split()\n",
    "start_lat = float(start_lat.strip(','))\n",
    "start_lon = float(start_lon.strip(','))"
   ]
  },
  {
   "cell_type": "code",
   "execution_count": null,
   "metadata": {
    "collapsed": true
   },
   "outputs": [],
   "source": [
    "print (start_lat, start_lon)"
   ]
  },
  {
   "cell_type": "code",
   "execution_count": null,
   "metadata": {
    "collapsed": true
   },
   "outputs": [],
   "source": []
  },
  {
   "cell_type": "code",
   "execution_count": null,
   "metadata": {
    "collapsed": true
   },
   "outputs": [],
   "source": []
  },
  {
   "cell_type": "code",
   "execution_count": null,
   "metadata": {
    "collapsed": true
   },
   "outputs": [],
   "source": []
  },
  {
   "cell_type": "code",
   "execution_count": null,
   "metadata": {
    "collapsed": true
   },
   "outputs": [],
   "source": []
  },
  {
   "cell_type": "markdown",
   "metadata": {},
   "source": [
    "# plan using A*"
   ]
  },
  {
   "cell_type": "code",
   "execution_count": null,
   "metadata": {
    "collapsed": true
   },
   "outputs": [],
   "source": [
    "from planning_utils import a_star, heuristic, create_grid, Action"
   ]
  },
  {
   "cell_type": "code",
   "execution_count": null,
   "metadata": {
    "collapsed": true
   },
   "outputs": [],
   "source": []
  },
  {
   "cell_type": "code",
   "execution_count": null,
   "metadata": {
    "collapsed": true
   },
   "outputs": [],
   "source": [
    "# Static drone altitude (metres)\n",
    "drone_altitude = 5\n",
    "# Minimum distance required to stay away from an obstacle (metres)\n",
    "safe_distance = 5"
   ]
  },
  {
   "cell_type": "code",
   "execution_count": null,
   "metadata": {
    "collapsed": true
   },
   "outputs": [],
   "source": [
    "%time grid, n_offset, e_offset = create_grid(data, drone_altitude, safe_distance)"
   ]
  },
  {
   "cell_type": "code",
   "execution_count": null,
   "metadata": {
    "collapsed": true
   },
   "outputs": [],
   "source": []
  },
  {
   "cell_type": "code",
   "execution_count": null,
   "metadata": {
    "collapsed": true
   },
   "outputs": [],
   "source": []
  },
  {
   "cell_type": "code",
   "execution_count": null,
   "metadata": {
    "collapsed": true
   },
   "outputs": [],
   "source": [
    "plt.imshow(grid, cmap='Greys', origin='lower') \n",
    "plt.xlabel('EAST')\n",
    "plt.ylabel('NORTH')\n",
    "plt.show()"
   ]
  },
  {
   "cell_type": "code",
   "execution_count": null,
   "metadata": {
    "collapsed": true
   },
   "outputs": [],
   "source": []
  },
  {
   "cell_type": "code",
   "execution_count": null,
   "metadata": {
    "collapsed": true
   },
   "outputs": [],
   "source": []
  },
  {
   "cell_type": "code",
   "execution_count": null,
   "metadata": {
    "collapsed": true
   },
   "outputs": [],
   "source": [
    "start_ne = (316, 445)\n",
    "goal_ne = (539, 138)"
   ]
  },
  {
   "cell_type": "code",
   "execution_count": null,
   "metadata": {
    "collapsed": true
   },
   "outputs": [],
   "source": []
  },
  {
   "cell_type": "code",
   "execution_count": null,
   "metadata": {
    "collapsed": true
   },
   "outputs": [],
   "source": [
    "%time path, cost = a_star(grid, heuristic, start_ne, goal_ne)\n",
    "print(len(path), cost)"
   ]
  },
  {
   "cell_type": "code",
   "execution_count": null,
   "metadata": {
    "collapsed": true
   },
   "outputs": [],
   "source": []
  },
  {
   "cell_type": "code",
   "execution_count": null,
   "metadata": {
    "collapsed": true
   },
   "outputs": [],
   "source": []
  },
  {
   "cell_type": "code",
   "execution_count": null,
   "metadata": {
    "collapsed": true
   },
   "outputs": [],
   "source": []
  },
  {
   "cell_type": "code",
   "execution_count": null,
   "metadata": {
    "collapsed": true
   },
   "outputs": [],
   "source": [
    "plt.imshow(grid, cmap='Greys', origin='lower')\n",
    "plt.plot(start_ne[1], start_ne[0], 'x')\n",
    "plt.plot(goal_ne[1], goal_ne[0], 'x')\n",
    "\n",
    "pp = np.array(path)\n",
    "plt.plot(pp[:, 1], pp[:, 0], 'g')\n",
    "\n",
    "plt.xlabel('EAST')\n",
    "plt.ylabel('NORTH')\n",
    "plt.show()"
   ]
  },
  {
   "cell_type": "code",
   "execution_count": null,
   "metadata": {
    "collapsed": true
   },
   "outputs": [],
   "source": []
  },
  {
   "cell_type": "code",
   "execution_count": null,
   "metadata": {
    "collapsed": true
   },
   "outputs": [],
   "source": [
    "def collinearity_3D(p1, p2, p3, epsilon=1e-6): \n",
    "    collinear = False\n",
    "    mat = np.vstack((p1, p2, p3))\n",
    "    det = np.linalg.det(mat)\n",
    "    if det < epsilon:\n",
    "        collinear = True\n",
    "    return collinear"
   ]
  },
  {
   "cell_type": "code",
   "execution_count": null,
   "metadata": {
    "collapsed": true
   },
   "outputs": [],
   "source": [
    "def point(p):\n",
    "    return np.array([p[0], p[1], 1.]).reshape(1, -1)"
   ]
  },
  {
   "cell_type": "code",
   "execution_count": null,
   "metadata": {
    "collapsed": true
   },
   "outputs": [],
   "source": [
    "def collinearity_2D(p1, p2, p3, epsilon=1e-6): \n",
    "    collinear = False\n",
    "    det = p1[0]*(p2[1] - p3[1]) + p2[0]*(p3[1] - p1[1]) + p3[0]*(p1[1] - p2[1])\n",
    "    if abs(det) < epsilon:\n",
    "        collinear = True\n",
    "    return collinear"
   ]
  },
  {
   "cell_type": "code",
   "execution_count": null,
   "metadata": {
    "collapsed": true
   },
   "outputs": [],
   "source": [
    "# using collinearity here, but could use Bresenham as well\n",
    "def prune_path(path):\n",
    "    pruned_path = [p for p in path]\n",
    "    i = 0\n",
    "    while i < len(pruned_path) - 2:\n",
    "        p1 = (pruned_path[i])\n",
    "        p2 = (pruned_path[i+1])\n",
    "        p3 = (pruned_path[i+2])\n",
    "        \n",
    "        # If the 3 points are in a line remove\n",
    "        # the 2nd point.\n",
    "        # The 3rd point now becomes and 2nd point\n",
    "        # and the check is redone with a new third point\n",
    "        # on the next iteration.\n",
    "        if collinearity_2D(p1, p2, p3):\n",
    "            # Something subtle here but we can mutate\n",
    "            # `pruned_path` freely because the length\n",
    "            # of the list is check on every iteration.\n",
    "            pruned_path.remove(pruned_path[i+1])\n",
    "        else:\n",
    "            i += 1\n",
    "    return pruned_path"
   ]
  },
  {
   "cell_type": "code",
   "execution_count": null,
   "metadata": {
    "collapsed": true
   },
   "outputs": [],
   "source": [
    "pruned_path = prune_path(path)\n",
    "print(len(pruned_path))"
   ]
  },
  {
   "cell_type": "code",
   "execution_count": null,
   "metadata": {
    "collapsed": true
   },
   "outputs": [],
   "source": [
    "print(pruned_path)"
   ]
  },
  {
   "cell_type": "code",
   "execution_count": null,
   "metadata": {
    "collapsed": true
   },
   "outputs": [],
   "source": [
    "plt.imshow(grid, cmap='Greys', origin='lower')\n",
    "plt.plot(start_ne[1], start_ne[0], 'x')\n",
    "plt.plot(goal_ne[1], goal_ne[0], 'x')\n",
    "\n",
    "pp = np.array(pruned_path)\n",
    "plt.plot(pp[:, 1], pp[:, 0], 'g')\n",
    "plt.scatter(pp[:, 1], pp[:, 0])\n",
    "\n",
    "plt.xlabel('EAST')\n",
    "plt.ylabel('NORTH')\n",
    "plt.show()"
   ]
  },
  {
   "cell_type": "code",
   "execution_count": null,
   "metadata": {
    "collapsed": true
   },
   "outputs": [],
   "source": []
  },
  {
   "cell_type": "code",
   "execution_count": null,
   "metadata": {
    "collapsed": true
   },
   "outputs": [],
   "source": []
  },
  {
   "cell_type": "code",
   "execution_count": null,
   "metadata": {
    "collapsed": true
   },
   "outputs": [],
   "source": []
  },
  {
   "cell_type": "code",
   "execution_count": null,
   "metadata": {
    "collapsed": true
   },
   "outputs": [],
   "source": []
  },
  {
   "cell_type": "code",
   "execution_count": null,
   "metadata": {
    "collapsed": true
   },
   "outputs": [],
   "source": []
  },
  {
   "cell_type": "code",
   "execution_count": null,
   "metadata": {
    "collapsed": true
   },
   "outputs": [],
   "source": []
  },
  {
   "cell_type": "code",
   "execution_count": null,
   "metadata": {
    "collapsed": true
   },
   "outputs": [],
   "source": []
  },
  {
   "cell_type": "code",
   "execution_count": null,
   "metadata": {
    "collapsed": true
   },
   "outputs": [],
   "source": []
  },
  {
   "cell_type": "code",
   "execution_count": null,
   "metadata": {
    "collapsed": true
   },
   "outputs": [],
   "source": []
  },
  {
   "cell_type": "code",
   "execution_count": null,
   "metadata": {
    "collapsed": true
   },
   "outputs": [],
   "source": []
  },
  {
   "cell_type": "code",
   "execution_count": null,
   "metadata": {
    "collapsed": true
   },
   "outputs": [],
   "source": []
  },
  {
   "cell_type": "code",
   "execution_count": null,
   "metadata": {
    "collapsed": true
   },
   "outputs": [],
   "source": []
  },
  {
   "cell_type": "code",
   "execution_count": null,
   "metadata": {
    "collapsed": true
   },
   "outputs": [],
   "source": []
  },
  {
   "cell_type": "code",
   "execution_count": null,
   "metadata": {
    "collapsed": true
   },
   "outputs": [],
   "source": [
    "from bresenham import bresenham"
   ]
  },
  {
   "cell_type": "code",
   "execution_count": null,
   "metadata": {
    "collapsed": true
   },
   "outputs": [],
   "source": [
    "[p for p in bresenham(1,1,7,12)]"
   ]
  },
  {
   "cell_type": "code",
   "execution_count": null,
   "metadata": {
    "collapsed": true
   },
   "outputs": [],
   "source": []
  },
  {
   "cell_type": "code",
   "execution_count": null,
   "metadata": {
    "collapsed": true
   },
   "outputs": [],
   "source": []
  },
  {
   "cell_type": "code",
   "execution_count": null,
   "metadata": {
    "collapsed": true
   },
   "outputs": [],
   "source": [
    "from scipy.spatial import Voronoi, voronoi_plot_2d"
   ]
  },
  {
   "cell_type": "code",
   "execution_count": null,
   "metadata": {
    "collapsed": true
   },
   "outputs": [],
   "source": [
    "points = np.random.randint(50, size=(50, 2))\n",
    "graph = Voronoi(points)"
   ]
  },
  {
   "cell_type": "code",
   "execution_count": null,
   "metadata": {
    "collapsed": true
   },
   "outputs": [],
   "source": [
    "graph"
   ]
  },
  {
   "cell_type": "code",
   "execution_count": null,
   "metadata": {
    "collapsed": true
   },
   "outputs": [],
   "source": [
    "len(graph.ridge_vertices)"
   ]
  },
  {
   "cell_type": "code",
   "execution_count": null,
   "metadata": {
    "collapsed": true
   },
   "outputs": [],
   "source": [
    "graph.ridge_vertices[0]"
   ]
  },
  {
   "cell_type": "code",
   "execution_count": null,
   "metadata": {
    "collapsed": true
   },
   "outputs": [],
   "source": [
    "graph.vertices[1]"
   ]
  },
  {
   "cell_type": "code",
   "execution_count": null,
   "metadata": {
    "collapsed": true
   },
   "outputs": [],
   "source": [
    "voronoi_plot_2d(graph)\n",
    "plt.show()"
   ]
  },
  {
   "cell_type": "code",
   "execution_count": null,
   "metadata": {
    "collapsed": true
   },
   "outputs": [],
   "source": []
  },
  {
   "cell_type": "code",
   "execution_count": null,
   "metadata": {
    "collapsed": true
   },
   "outputs": [],
   "source": [
    "def create_grid_and_edges(data, drone_altitude, safety_distance=0):\n",
    "    \"\"\"\n",
    "    expects map data in format (x,y,z,dx,dy,dz) where d_ is half size in that direction, x is obstacle mid-point\n",
    "    \n",
    "    Returns a grid representation of a 2D configuration space\n",
    "    based on given obstacle data, drone altitude and safety distance\n",
    "    arguments.\n",
    "    Also returns Voronoi graph around obstacles.\n",
    "    \"\"\"\n",
    "    xind = 0\n",
    "    yind = 2\n",
    "    zind = 1\n",
    "\n",
    "    # minimum and maximum north coordinates\n",
    "    north_min = np.floor(np.amin(data[:, xind] - data[:, xind+3]))\n",
    "    north_max = np.ceil(np.amax(data[:, xind] + data[:, xind+3]))\n",
    "\n",
    "    # minimum and maximum east coordinates\n",
    "    east_min = np.floor(np.amin(data[:, yind] - data[:, yind+3]))\n",
    "    east_max = np.ceil(np.amax(data[:, yind] + data[:, yind+3]))\n",
    "\n",
    "    # given the minimum and maximum coordinates we can\n",
    "    # calculate the size of the grid.\n",
    "    north_size = int(np.ceil((north_max - north_min)))\n",
    "    east_size = int(np.ceil((east_max - east_min)))\n",
    "\n",
    "    grid = np.zeros((north_size, east_size))\n",
    "    points = [] # centers of obstacles\n",
    "\n",
    "    for i in range(data.shape[0]):\n",
    "        pt = data[i, :]\n",
    "        north = pt[xind]\n",
    "        east = pt[yind]\n",
    "        alt = pt[zind]\n",
    "        d_north = pt[xind+3]\n",
    "        d_east = pt[yind+3]\n",
    "        d_alt = pt[zind+3]\n",
    "\n",
    "        if alt + d_alt + safety_distance > drone_altitude:\n",
    "            obstacle = [\n",
    "                int(north - d_north - safety_distance - north_min),\n",
    "                int(north + d_north + safety_distance - north_min),\n",
    "                int(east - d_east - safety_distance - east_min),\n",
    "                int(east + d_east + safety_distance - east_min),\n",
    "            ]\n",
    "            grid[obstacle[0]:obstacle[1], obstacle[2]:obstacle[3]] = 1\n",
    "            # add center of obstacles to points list\n",
    "            points.append([north - north_min, east - east_min])\n",
    "\n",
    "    # create a voronoi graph based on location of obstacle centres\n",
    "    graph = Voronoi(points)\n",
    "            \n",
    "    # check each edge from graph.ridge_vertices for collision\n",
    "    edges = []\n",
    "    for v in graph.ridge_vertices:\n",
    "        p1 = graph.vertices[v[0]]\n",
    "        p2 = graph.vertices[v[1]]\n",
    "        cells = list(bresenham(int(p1[0]), int(p1[1]), int(p2[0]), int(p2[1])))\n",
    "        hit = False\n",
    "\n",
    "        for c in cells:\n",
    "            # First check if we're off the map\n",
    "            if np.amin(c) < 0 or c[0] >= grid.shape[0] or c[1] >= grid.shape[1]:\n",
    "                hit = True\n",
    "                break\n",
    "            # Next check if we're in collision\n",
    "            if grid[c[0], c[1]] == 1:\n",
    "                hit = True\n",
    "                break\n",
    "\n",
    "        # If the edge does not hit on obstacle\n",
    "        # add it to the list\n",
    "        if not hit:\n",
    "            # array to tuple for future graph creation step)\n",
    "            p1 = (p1[0], p1[1])\n",
    "            p2 = (p2[0], p2[1])\n",
    "            edges.append((p1, p2))\n",
    "\n",
    "    return grid, edges\n"
   ]
  },
  {
   "cell_type": "code",
   "execution_count": null,
   "metadata": {
    "collapsed": true
   },
   "outputs": [],
   "source": [
    "drone_altitude = 3\n",
    "%time grid, edges = create_grid_and_edges(data, drone_altitude)\n",
    "print('Found %5d edges' % len(edges))"
   ]
  },
  {
   "cell_type": "code",
   "execution_count": null,
   "metadata": {
    "collapsed": true
   },
   "outputs": [],
   "source": [
    "# show grid/obstacles\n",
    "plt.imshow(grid, origin='lower', cmap='Greys') \n",
    "# Voronoi graph edge by edge\n",
    "for e in edges:\n",
    "    p1 = e[0]\n",
    "    p2 = e[1]\n",
    "    plt.plot([p1[1], p2[1]], [p1[0], p2[0]], 'b-')\n",
    "# start and finish\n",
    "plt.plot(start_ne[1], start_ne[0], 'rx')\n",
    "plt.plot(goal_ne[1], goal_ne[0], 'rx')    \n",
    "# labels\n",
    "plt.xlabel('EAST')\n",
    "plt.ylabel('NORTH')\n",
    "plt.show()"
   ]
  },
  {
   "cell_type": "code",
   "execution_count": null,
   "metadata": {
    "collapsed": true
   },
   "outputs": [],
   "source": []
  },
  {
   "cell_type": "code",
   "execution_count": null,
   "metadata": {
    "collapsed": true
   },
   "outputs": [],
   "source": []
  },
  {
   "cell_type": "code",
   "execution_count": null,
   "metadata": {
    "collapsed": true
   },
   "outputs": [],
   "source": []
  },
  {
   "cell_type": "code",
   "execution_count": null,
   "metadata": {
    "collapsed": true
   },
   "outputs": [],
   "source": []
  },
  {
   "cell_type": "code",
   "execution_count": null,
   "metadata": {
    "collapsed": true
   },
   "outputs": [],
   "source": [
    "import networkx as nx\n",
    "import numpy.linalg as LA"
   ]
  },
  {
   "cell_type": "code",
   "execution_count": null,
   "metadata": {
    "collapsed": true
   },
   "outputs": [],
   "source": [
    "# create the graph with the weight of the edges\n",
    "# set to the Euclidean distance between the points\n",
    "G = nx.Graph()\n",
    "for e in edges:\n",
    "    p1 = e[0]\n",
    "    p2 = e[1]\n",
    "    dist = LA.norm(np.array(p2) - np.array(p1))\n",
    "    G.add_edge(p1, p2, weight=dist)"
   ]
  },
  {
   "cell_type": "code",
   "execution_count": null,
   "metadata": {
    "collapsed": true
   },
   "outputs": [],
   "source": [
    "def heuristic(n1, n2):\n",
    "    return LA.norm(np.array(n2) - np.array(n1))"
   ]
  },
  {
   "cell_type": "markdown",
   "metadata": {},
   "source": [
    "1. Find the closest point in the graph to our current location, same thing for the goal location.\n",
    "2. Compute the path from the two points in the graph using the A* algorithm.\n",
    "3. Feel free to use any of the path pruning techniques to make the path even smaller! \n",
    "4. Plot it up to see the results!"
   ]
  },
  {
   "cell_type": "code",
   "execution_count": null,
   "metadata": {
    "collapsed": true
   },
   "outputs": [],
   "source": [
    "def a_star_graph(graph, heuristic, start, goal):\n",
    "    \"\"\"Modified A* to work with NetworkX graphs.\"\"\"\n",
    "    \n",
    "    path = []\n",
    "    queue = PriorityQueue()\n",
    "    queue.put((0, start))\n",
    "    visited = set(start)\n",
    "\n",
    "    branch = {}\n",
    "    found = False\n",
    "    \n",
    "    while not queue.empty():\n",
    "        item = queue.get()\n",
    "        current_cost = item[0]\n",
    "        current_node = item[1]\n",
    "\n",
    "        if current_node == goal:        \n",
    "            print('Found a path.')\n",
    "            found = True\n",
    "            break\n",
    "        else:\n",
    "            for next_node in graph[current_node]:\n",
    "                cost = graph.edges[current_node, next_node]['weight']\n",
    "                new_cost = current_cost + cost + heuristic(next_node, goal)\n",
    "                \n",
    "                if next_node not in visited:                \n",
    "                    visited.add(next_node)               \n",
    "                    queue.put((new_cost, next_node))\n",
    "                    \n",
    "                    branch[next_node] = (new_cost, current_node)\n",
    "             \n",
    "    path = []\n",
    "    path_cost = 0\n",
    "    if found:\n",
    "        \n",
    "        # retrace steps\n",
    "        path = []\n",
    "        n = goal\n",
    "        path_cost = branch[n][0]\n",
    "        path.append(goal)\n",
    "        while branch[n][1] != start:\n",
    "            path.append(branch[n][1])\n",
    "            n = branch[n][1]\n",
    "        path.append(branch[n][1])\n",
    "            \n",
    "    return path[::-1], path_cost"
   ]
  },
  {
   "cell_type": "code",
   "execution_count": null,
   "metadata": {
    "collapsed": true
   },
   "outputs": [],
   "source": [
    "def closest_point(graph, current_point):\n",
    "    \"\"\"\n",
    "    Compute the closest point in the `graph`\n",
    "    to the `current_point`.\n",
    "    \"\"\"\n",
    "    closest_point = None\n",
    "    dist = 100000\n",
    "    for p in graph.nodes:\n",
    "        d = LA.norm(np.array(p) - np.array(current_point))\n",
    "        if d < dist:\n",
    "            closest_point = p\n",
    "            dist = d\n",
    "    return closest_point"
   ]
  },
  {
   "cell_type": "code",
   "execution_count": null,
   "metadata": {
    "collapsed": true
   },
   "outputs": [],
   "source": [
    "start_ne_g = closest_point(G, start_ne)\n",
    "goal_ne_g = closest_point(G, goal_ne)\n",
    "print(start_ne_g)\n",
    "print(goal_ne_g)"
   ]
  },
  {
   "cell_type": "code",
   "execution_count": null,
   "metadata": {
    "collapsed": true
   },
   "outputs": [],
   "source": [
    "%time path, cost = a_star_graph(G, heuristic, start_ne_g, goal_ne_g)\n",
    "print(len(path))"
   ]
  },
  {
   "cell_type": "code",
   "execution_count": null,
   "metadata": {
    "collapsed": true
   },
   "outputs": [],
   "source": [
    "plt.imshow(grid, origin='lower', cmap='Greys') \n",
    "\n",
    "for e in edges:\n",
    "    p1 = e[0]\n",
    "    p2 = e[1]\n",
    "    plt.plot([p1[1], p2[1]], [p1[0], p2[0]], 'b-')\n",
    "    \n",
    "plt.plot([start_ne[1], start_ne_g[1]], [start_ne[0], start_ne_g[0]], 'r-')\n",
    "for i in range(len(path)-1):\n",
    "    p1 = path[i]\n",
    "    p2 = path[i+1]\n",
    "    plt.plot([p1[1], p2[1]], [p1[0], p2[0]], 'r-')\n",
    "plt.plot([goal_ne[1], goal_ne_g[1]], [goal_ne[0], goal_ne_g[0]], 'r-')\n",
    "    \n",
    "plt.plot(start_ne[1], start_ne[0], 'gx')\n",
    "plt.plot(goal_ne[1], goal_ne[0], 'gx')\n",
    "\n",
    "plt.xlabel('EAST', fontsize=20)\n",
    "plt.ylabel('NORTH', fontsize=20)\n",
    "plt.show()"
   ]
  },
  {
   "cell_type": "code",
   "execution_count": null,
   "metadata": {
    "collapsed": true
   },
   "outputs": [],
   "source": []
  },
  {
   "cell_type": "code",
   "execution_count": null,
   "metadata": {
    "collapsed": true
   },
   "outputs": [],
   "source": [
    "from skimage.morphology import medial_axis\n",
    "from skimage.util import invert"
   ]
  },
  {
   "cell_type": "code",
   "execution_count": null,
   "metadata": {
    "collapsed": true
   },
   "outputs": [],
   "source": [
    "# The medial_axis() method requires that we invert the grid image\n",
    "skeleton = medial_axis(invert(grid))"
   ]
  },
  {
   "cell_type": "code",
   "execution_count": null,
   "metadata": {
    "collapsed": true
   },
   "outputs": [],
   "source": [
    "skeleton"
   ]
  },
  {
   "cell_type": "code",
   "execution_count": null,
   "metadata": {
    "collapsed": true
   },
   "outputs": [],
   "source": [
    "plt.imshow(grid, origin='lower')\n",
    "plt.imshow(skeleton, origin='lower', cmap='Greys', alpha=0.7)\n",
    "plt.plot(start_ne[1], start_ne[0], 'rx')\n",
    "plt.plot(goal_ne[1], goal_ne[0], 'rx')\n",
    "plt.show()"
   ]
  },
  {
   "cell_type": "code",
   "execution_count": null,
   "metadata": {
    "collapsed": true
   },
   "outputs": [],
   "source": [
    "def find_start_goal(skel, start, goal):\n",
    "    skel_cells = np.transpose(skeleton.nonzero())\n",
    "    start_min_dist = np.linalg.norm(np.array(start) - np.array(skel_cells), axis=1).argmin()\n",
    "    near_start = skel_cells[start_min_dist]\n",
    "    goal_min_dist = np.linalg.norm(np.array(goal) - np.array(skel_cells), axis=1).argmin()\n",
    "    near_goal = skel_cells[goal_min_dist]\n",
    "    return near_start, near_goal"
   ]
  },
  {
   "cell_type": "code",
   "execution_count": null,
   "metadata": {
    "collapsed": true
   },
   "outputs": [],
   "source": [
    "skel_start, skel_goal = find_start_goal(skeleton, start_ne, goal_ne)\n",
    "\n",
    "print(start_ne, goal_ne)\n",
    "print(skel_start, skel_goal)"
   ]
  },
  {
   "cell_type": "code",
   "execution_count": null,
   "metadata": {
    "collapsed": true
   },
   "outputs": [],
   "source": []
  },
  {
   "cell_type": "code",
   "execution_count": null,
   "metadata": {
    "collapsed": true
   },
   "outputs": [],
   "source": []
  },
  {
   "cell_type": "code",
   "execution_count": null,
   "metadata": {
    "collapsed": true
   },
   "outputs": [],
   "source": [
    "from enum import Enum\n",
    "from queue import PriorityQueue\n",
    "\n",
    "\n",
    "# Quadroter assume all actions cost the same.\n",
    "class Action(Enum):\n",
    "    \"\"\"\n",
    "    An action is represented by a 3 element tuple.\n",
    "\n",
    "    The first 2 values are the delta of the action relative\n",
    "    to the current grid position. The third and final value\n",
    "    is the cost of performing the action.\n",
    "    \"\"\"\n",
    "\n",
    "    WEST = (0, -1, 1)\n",
    "    EAST = (0, 1, 1)\n",
    "    NORTH = (-1, 0, 1)\n",
    "    SOUTH = (1, 0, 1)\n",
    "    NORTH_WEST = (-1, -1, 1)\n",
    "    NORTH_EAST = (-1, 1, 1)\n",
    "    SOUTH_WEST = (1, -1, 1)\n",
    "    SOUTH_EAST = (1, 1, 1)\n",
    "\n",
    "    @property\n",
    "    def cost(self):\n",
    "        return self.value[2]\n",
    "\n",
    "    @property\n",
    "    def delta(self):\n",
    "        return (self.value[0], self.value[1])\n",
    "\n",
    "\n",
    "def valid_actions(grid, current_node):\n",
    "    \"\"\"\n",
    "    Returns a list of valid actions given a grid and current node.\n",
    "    \"\"\"\n",
    "    valid_actions = list(Action)\n",
    "    n, m = grid.shape[0] - 1, grid.shape[1] - 1\n",
    "    x, y = current_node\n",
    "\n",
    "    # check if the node is off the grid or\n",
    "    # it's an obstacle\n",
    "\n",
    "    if x - 1 < 0 or grid[x - 1, y] == 1:\n",
    "        valid_actions.remove(Action.NORTH)\n",
    "    if x + 1 > n or grid[x + 1, y] == 1:\n",
    "        valid_actions.remove(Action.SOUTH)\n",
    "    if y - 1 < 0 or grid[x, y - 1] == 1:\n",
    "        valid_actions.remove(Action.WEST)\n",
    "    if y + 1 > m or grid[x, y + 1] == 1:\n",
    "        valid_actions.remove(Action.EAST)\n",
    "\n",
    "    if (x - 1 < 0 and y - 1 < 0) or grid[x - 1, y - 1] == 1:\n",
    "        valid_actions.remove(Action.NORTH_WEST)\n",
    "    if (x - 1 < 0 and y + 1 > m) or grid[x - 1, y + 1] == 1:\n",
    "        valid_actions.remove(Action.NORTH_EAST)\n",
    "    if (x + 1 > n and y - 1 < 0) or grid[x + 1, y - 1] == 1:\n",
    "        valid_actions.remove(Action.SOUTH_WEST)\n",
    "    if (x + 1 > n and y + 1 > m) or grid[x + 1, y + 1] == 1:\n",
    "        valid_actions.remove(Action.SOUTH_EAST)\n",
    "\n",
    "    return valid_actions\n",
    "\n",
    "\n",
    "def a_star(grid, heuristic_func, start, goal):\n",
    "    \"\"\"\n",
    "    Given a grid and heuristic function returns\n",
    "    the lowest cost path from start to goal.\n",
    "    \"\"\"\n",
    "\n",
    "    path = []\n",
    "    path_cost = 0\n",
    "    queue = PriorityQueue()\n",
    "    queue.put((0, start))\n",
    "    visited = set(start)\n",
    "\n",
    "    branch = {}\n",
    "    found = False\n",
    "\n",
    "    while not queue.empty():\n",
    "        item = queue.get()\n",
    "        current_cost = item[0]\n",
    "        current_node = item[1]\n",
    "\n",
    "        if current_node == goal:\n",
    "            print('Found a path.')\n",
    "            found = True\n",
    "            break\n",
    "        else:\n",
    "            # Get the new vertexes connected to the current vertex\n",
    "            for a in valid_actions(grid, current_node):\n",
    "                next_node = (current_node[0] + a.delta[0], current_node[1] + a.delta[1])\n",
    "                new_cost = current_cost + a.cost + heuristic_func(next_node, goal)\n",
    "\n",
    "                if next_node not in visited:\n",
    "                    visited.add(next_node)\n",
    "                    queue.put((new_cost, next_node))\n",
    "\n",
    "                    branch[next_node] = (new_cost, current_node, a)\n",
    "\n",
    "    if found:\n",
    "        # retrace steps\n",
    "        n = goal\n",
    "        path_cost = branch[n][0]\n",
    "        path.append(goal)\n",
    "        while branch[n][1] != start:\n",
    "            path.append(branch[n][1])\n",
    "            n = branch[n][1]\n",
    "        path.append(branch[n][1])\n",
    "\n",
    "    return path[::-1], path_cost"
   ]
  },
  {
   "cell_type": "code",
   "execution_count": null,
   "metadata": {
    "collapsed": true
   },
   "outputs": [],
   "source": []
  },
  {
   "cell_type": "code",
   "execution_count": null,
   "metadata": {
    "collapsed": true
   },
   "outputs": [],
   "source": []
  },
  {
   "cell_type": "code",
   "execution_count": null,
   "metadata": {
    "collapsed": true
   },
   "outputs": [],
   "source": [
    "def heuristic_func_eucl(position, goal_position):\n",
    "    return np.sqrt((position[0] - goal_position[0])**2 + (position[1] - goal_position[1])**2)"
   ]
  },
  {
   "cell_type": "code",
   "execution_count": null,
   "metadata": {
    "collapsed": true
   },
   "outputs": [],
   "source": [
    "# Run A* on the skeleton\n",
    "%time path, cost = a_star(invert(skeleton).astype(np.int), heuristic_func_eucl, tuple(skel_start), tuple(skel_goal))\n",
    "print(\"Path length = {0}, path cost = {1}\".format(len(path), cost))"
   ]
  },
  {
   "cell_type": "code",
   "execution_count": null,
   "metadata": {
    "collapsed": true
   },
   "outputs": [],
   "source": [
    "# PRUNE the path!"
   ]
  },
  {
   "cell_type": "code",
   "execution_count": null,
   "metadata": {
    "collapsed": true
   },
   "outputs": [],
   "source": []
  },
  {
   "cell_type": "code",
   "execution_count": null,
   "metadata": {
    "collapsed": true
   },
   "outputs": [],
   "source": [
    "# Compare to regular A* on the grid\n",
    "%time path2, cost2 = a_star(grid, heuristic_func_eucl, start_ne, goal_ne)\n",
    "print(\"Path length = {0}, path cost = {1}\".format(len(path2), cost2))"
   ]
  },
  {
   "cell_type": "code",
   "execution_count": null,
   "metadata": {
    "collapsed": true
   },
   "outputs": [],
   "source": [
    "plt.imshow(grid, cmap='Greys', origin='lower')\n",
    "plt.imshow(skeleton, cmap='Greys', origin='lower', alpha=0.7)\n",
    "# For the purposes of the visual the east coordinate lay along\n",
    "# the x-axis and the north coordinates long the y-axis.\n",
    "plt.plot(start_ne[1], start_ne[0], 'x')\n",
    "plt.plot(goal_ne[1], goal_ne[0], 'x')\n",
    "\n",
    "pp = np.array(path)\n",
    "plt.plot(pp[:, 1], pp[:, 0], 'g')\n",
    "pp2 = np.array(path2)\n",
    "plt.plot(pp2[:, 1], pp2[:, 0], 'r')\n",
    "\n",
    "plt.xlabel('EAST')\n",
    "plt.ylabel('NORTH')\n",
    "plt.show()"
   ]
  },
  {
   "cell_type": "code",
   "execution_count": null,
   "metadata": {
    "collapsed": true
   },
   "outputs": [],
   "source": []
  },
  {
   "cell_type": "code",
   "execution_count": null,
   "metadata": {
    "collapsed": true
   },
   "outputs": [],
   "source": []
  },
  {
   "cell_type": "code",
   "execution_count": null,
   "metadata": {
    "collapsed": true
   },
   "outputs": [],
   "source": []
  },
  {
   "cell_type": "code",
   "execution_count": null,
   "metadata": {
    "collapsed": true
   },
   "outputs": [],
   "source": []
  },
  {
   "cell_type": "code",
   "execution_count": null,
   "metadata": {
    "collapsed": true
   },
   "outputs": [],
   "source": []
  }
 ],
 "metadata": {
  "kernelspec": {
   "display_name": "Python 3",
   "language": "python",
   "name": "python3"
  },
  "language_info": {
   "codemirror_mode": {
    "name": "ipython",
    "version": 3
   },
   "file_extension": ".py",
   "mimetype": "text/x-python",
   "name": "python",
   "nbconvert_exporter": "python",
   "pygments_lexer": "ipython3",
   "version": "3.5.3"
  }
 },
 "nbformat": 4,
 "nbformat_minor": 2
}
